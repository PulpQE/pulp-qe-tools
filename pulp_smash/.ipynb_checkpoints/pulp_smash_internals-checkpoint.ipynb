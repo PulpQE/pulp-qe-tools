{
 "cells": [
  {
   "cell_type": "markdown",
   "metadata": {},
   "source": [
    "# Pulp-Smash Walkthrough"
   ]
  },
  {
   "cell_type": "markdown",
   "metadata": {},
   "source": [
    "### Why?\n",
    "\n",
    "Get familiar with Pulp-Smash and get to know how Pulp is tested. "
   ]
  },
  {
   "cell_type": "markdown",
   "metadata": {},
   "source": [
    "## Using Jupyter Notebook\n",
    "\n",
    "You can also follow along using a **Jupyter Notebook**.  Assuming you are bringing your own Pulp machine. \n",
    "\n",
    "\n",
    "``` shell\n",
    "python3 -m venv pulp-smash-internals\n",
    "source ~/pulp-smash-internals/bin/activate\n",
    "pip install pulp-smash\n",
    "pip install jupyter\n",
    "# Create settings related to the system to be tested\n",
    "pulp-smash settings create\n",
    "mkdir code && cd code\n",
    "git clone https://github.com/PulpQE/pulp-qe-tools.git\n",
    "cd pulp_smash\n",
    "jupyter notebook\n",
    "\n",
    "```"
   ]
  },
  {
   "cell_type": "markdown",
   "metadata": {},
   "source": [
    "### What is Pulp?\n",
    "\n",
    "Pulp is a platform for managing repositories of software packages and making it available to a large numbers of consumers. Pulp can locally mirror all or part of a repository, host your own software packages in repositories, and manage many types of content from multiple sources in one place.\n",
    "\n",
    "https://pulpproject.org/"
   ]
  },
  {
   "cell_type": "markdown",
   "metadata": {},
   "source": [
    "### Pulp Versions\n",
    "\n",
    "There are currently 2 versions of Pulp being tested by Pulp-Smash.\n",
    "\n",
    "* **Pulp2** - As of this writing 2.19.1 is the stable release.\n",
    "\n",
    "    [Pulp 2 Releases](https://pulp.plan.io/projects/pulp/wiki/Release_Schedule#Past-Releases)\n",
    "\n",
    "\n",
    "* **Pulp3** - Under development - RC available.\n",
    "\n",
    "    [Pulp 3 Docs](https://docs.pulpproject.org/en/3.0/nightly/)\n"
   ]
  },
  {
   "cell_type": "markdown",
   "metadata": {},
   "source": [
    "### What is Pulp-Smash?\n",
    "\n",
    "Pulp-Smash is a tool written in Python, to help test Pulp Project. Pulp-Smash is currently used to test Pulp2, and Pulp3. \n",
    "\n",
    "Most of the active development for tests are in Pulp 3.\n",
    "\n",
    "\n",
    "Smash will decide which tests to run based on several factors, including its configuration file and the state of issues on the Pulp issue tracker."
   ]
  },
  {
   "cell_type": "markdown",
   "metadata": {},
   "source": [
    "###  Types of Test\n",
    "\n",
    "Definitions per **ISTQB**\n",
    "\n",
    "Unit Testing or Component Testing\n",
    "\n",
    "> A minimal software item that can be tested in isolation. This activity typically belongs to developers.\n",
    "\n",
    "Functional Testing\n",
    "\n",
    "> Basically the testing of the functions of component or system is done. It refers to activities that verify a specific action or function of the code. Functional test tends to answer the questions like “can the user do this” or “does this particular feature work”. This is typically described in a requirements specification or in a functional specification.\n",
    "\n",
    "[ISTQB Glossary](https://glossary.istqb.org/en/search/)"
   ]
  },
  {
   "cell_type": "markdown",
   "metadata": {},
   "source": [
    "### Installing Pulp-Smash \n",
    "\n",
    "There are 2 main possible ways to install pulp-smash: as a **user** and a **dev**.\n",
    "\n",
    "Both options will be covered in this walkthrough.\n",
    "\n",
    "Resources:\n",
    "\n",
    "* https://github.com/PulpQE/pulp-smash\n",
    "* https://pypi.python.org/pypi/pulp-smash\n",
    "* https://pulp-smash.readthedocs.io/"
   ]
  },
  {
   "cell_type": "markdown",
   "metadata": {},
   "source": [
    "### Installing Pulp-Smash as a User\n",
    "\n",
    "Pulp-Smash supports Python 3.4, 3.5 and 3.6 version.\n",
    "\n",
    "It is suggested the use of a virutalenv to create a sandbox.\n",
    "\n",
    "``` bash\n",
    "python3 -m venv ps_env\n",
    "source ~/.ps_env/bin/activate\n",
    "pip install pulp-smash\n",
    "```"
   ]
  },
  {
   "cell_type": "markdown",
   "metadata": {},
   "source": [
    "### How to create Pulp-Smash settings\n",
    "\n",
    "``` bash\n",
    "pulp-smash settings create\n",
    "```\n",
    "\n",
    "```\n",
    "pulp-smash settings create\n",
    "A settings file already exists. Continuing will override it. Do you want to continue? [y/N]: y\n",
    "Which version of Pulp is under test?: 2.19.1\n",
    "What is the Pulp administrative user's username? [admin]: \n",
    "What is the Pulp administrative user's password? [admin]: \n",
    "Is SELinux supported on the Pulp hosts? [Y/n]: n\n",
    "Task time out in seconds? Min:1s Max:1800s. [1800]: \n",
    "What is the Pulp host's hostname?: r7\n",
    "What service backs Pulp's AMQP broker? (qpidd, rabbitmq) [qpidd]: \n",
    "What scheme should be used when communicating with Pulp's API? (https, http) [https]:      \n",
    "Verify HTTPS? [Y/n]: n\n",
    "By default, Pulp Smash will communicate with Pulp's API on the port number implied by the scheme. For example, if Pulp's API is available over HTTPS, then Pulp Smash will communicate on port 443. If Pulp's API is available on a non-standard port, like 8000, then Pulp Smash needs to know about that.\n",
    "Pulp API port number [0]: \n",
    "What web server service backs Pulp's API? (httpd, nginx) [httpd]: \n",
    "Is Pulp Smash installed on the same host as Pulp? [y/N]: n\n",
    "Pulp Smash will access the Pulp host using SSH.\n",
    "SSH username [root]: \n",
    "Ensure the SSH user has passwordless sudo access, ensure ~/.ssh/controlmasters/ exists, and ensure the following is present in your ~/.ssh/config file:\n",
    "\n",
    "  Host r7\n",
    "    StrictHostKeyChecking no\n",
    "    User root\n",
    "    UserKnownHostsFile /dev/null\n",
    "    ControlMaster auto\n",
    "    ControlPersist 10m\n",
    "    ControlPath ~/.ssh/controlmasters/%C\n",
    "\n",
    "Settings written to /home/kmo/.config/pulp_smash/settings.json.\n",
    "\n",
    "```"
   ]
  },
  {
   "cell_type": "markdown",
   "metadata": {},
   "source": [
    "### Example of Pulp-Smash settings\n",
    "\n",
    "``` bash\n",
    "pulp-smash settings show\n",
    "\n",
    "```\n",
    "\n",
    "``` json\n",
    "{\n",
    "  \"general\": {\n",
    "    \"timeout\": 1800\n",
    "  },\n",
    "  \"hosts\": [\n",
    "    {\n",
    "      \"hostname\": \"r7\",\n",
    "      \"roles\": {\n",
    "        \"amqp broker\": {\n",
    "          \"service\": \"qpidd\"\n",
    "        },\n",
    "        \"api\": {\n",
    "          \"scheme\": \"https\",\n",
    "          \"service\": \"httpd\",\n",
    "          \"verify\": false\n",
    "        },\n",
    "        \"mongod\": {},\n",
    "        \"pulp celerybeat\": {},\n",
    "        \"pulp cli\": {},\n",
    "        \"pulp resource manager\": {},\n",
    "        \"pulp workers\": {},\n",
    "        \"shell\": {\n",
    "          \"transport\": \"ssh\"\n",
    "        },\n",
    "        \"squid\": {}\n",
    "      }\n",
    "    }\n",
    "  ],\n",
    "  \"pulp\": {\n",
    "    \"auth\": [\n",
    "      \"admin\",\n",
    "      \"admin\"\n",
    "    ],\n",
    "    \"selinux enabled\": false,\n",
    "    \"version\": \"2.19.1\"\n",
    "  }\n",
    "}\n",
    "\n",
    "\n",
    "```"
   ]
  },
  {
   "cell_type": "markdown",
   "metadata": {},
   "source": [
    "### Note\n",
    "\n",
    "The configuration (via `pulp-smash settings create`) is  important. But that comes after installing. The instructions are the same regardless of how Smash is installed - user or dev.\n",
    "\n",
    "The settings file is split into a **pulp** and **systems** section because Pulp can be installed across separate hosts. The application-wide settings are placed into the **pulp** section, and the per-host settings are placed into the **systems** section. At this time, **Pulp-Smash** does not currently perform multi-host testing of Pulp, but **Pulp-Smash** is designed with this use case in mind. This is one example of that.\n",
    "\n",
    "Perhaps a more precise definition of **systems** section is to think as **hosts**.\n"
   ]
  },
  {
   "cell_type": "markdown",
   "metadata": {},
   "source": [
    "### Good to Know\n",
    "\n",
    "In the simplest case, Pulp Smash's configuration file resides at\n",
    "    ``~/.config/pulp_smash/settings.json``. However, there are several ways to\n",
    "    alter this path. Pulp Smash obeys the `XDG Base Directory Specification`.\n",
    "    In addition, Pulp Smash responds to the ``PULP_SMASH_CONFIG_FILE``\n",
    "    environment variable. This variable is a relative path, and it defaults to\n",
    "    ``settings.json``.\n"
   ]
  },
  {
   "cell_type": "markdown",
   "metadata": {},
   "source": [
    "### Running your first Pulp 2 test"
   ]
  },
  {
   "cell_type": "markdown",
   "metadata": {},
   "source": [
    "``` shell \n",
    "git clone https://github.com/PulpQE/Pulp-2-Tests.git\n",
    "cd Pulp-2-Tests/\n",
    "make install-dev \n",
    "\n",
    "```"
   ]
  },
  {
   "cell_type": "code",
   "execution_count": 41,
   "metadata": {},
   "outputs": [
    {
     "name": "stdout",
     "output_type": "stream",
     "text": [
      "\u001b[1mTest session starts (platform: linux, Python 3.7.3, pytest 4.3.1, pytest-sugar 0.9.2)\u001b[0m\n",
      "cachedir: .pytest_cache\n",
      "rootdir: /home/kmo/work/pulp-qe-tools/pulp_smash/Pulp-2-Tests, inifile:\n",
      "plugins: sugar-0.9.2, cov-2.7.1\n",
      "\u001b[1mcollecting ... \u001b[0m\n",
      " \u001b[36mpulp_2_tests/tests/platform/api_v2/test_login.py\u001b[0m::LoginTestCase.test_failure\u001b[0m \u001b[32m✓\u001b[0m\u001b[32m50% \u001b[0m\u001b[40m\u001b[32m█\u001b[0m\u001b[40m\u001b[32m████     \u001b[0m\n",
      " \u001b[36mpulp_2_tests/tests/platform/api_v2/test_login.py\u001b[0m::LoginTestCase.test_success\u001b[0m \u001b[32m✓\u001b[0m\u001b[32m100% \u001b[0m\u001b[40m\u001b[32m█\u001b[0m\u001b[40m\u001b[32m████\u001b[0m\u001b[40m\u001b[32m█\u001b[0m\u001b[40m\u001b[32m████\u001b[0m\n",
      "\u001b[33m=============================== warnings summary ===============================\u001b[0m\n",
      "pulp_2_tests/tests/platform/api_v2/test_login.py::LoginTestCase::test_failure\n",
      "pulp_2_tests/tests/platform/api_v2/test_login.py::LoginTestCase::test_success\n",
      "  /home/kmo/envs/pe/lib64/python3.7/site-packages/urllib3/connectionpool.py:847: InsecureRequestWarning: Unverified HTTPS request is being made. Adding certificate verification is strongly advised. See: https://urllib3.readthedocs.io/en/latest/advanced-usage.html#ssl-warnings\n",
      "    InsecureRequestWarning)\n",
      "\n",
      "pulp_2_tests/tests/platform/api_v2/test_login.py::LoginTestCase::test_failure\n",
      "  /home/kmo/work/pulp-smash/pulp_smash/selectors.py:212: RuntimeWarning: Pulp 2 issue 1412 has a status of CLOSED - WONTFIX. This test was skipped based on the issue status. Many Pulp 2 issues were closed as WONTFIX. Keeping the test in the code basis for future reference.\n",
      "    warnings.warn(message, RuntimeWarning)\n",
      "\n",
      "-- Docs: https://docs.pytest.org/en/latest/warnings.html\n",
      "\n",
      "Results (7.82s):\n",
      "\u001b[32m       2 passed\u001b[0m\n"
     ]
    }
   ],
   "source": [
    "!pytest -sv pulp_2_tests/tests/platform/api_v2/test_login.py \n"
   ]
  },
  {
   "cell_type": "markdown",
   "metadata": {},
   "source": [
    "**Warning Explanation**\n",
    "\n",
    "If the configuration file states that HTTPS connections should not be verified, then InsecureRequestWarnings will be emitted. Smash is smart enough to suppress these warnings. But the unittest test runner overrides Smash and causes all warnings to be emitted anyway.\n",
    "\n",
    "\n",
    "[Warning](https://github.com/PulpQE/pulp-smash/blob/2c5445972ff8c13cf32632f58b10b787ce2239cd/pulp_smash/tests/__init__.py#L43)\n"
   ]
  },
  {
   "cell_type": "markdown",
   "metadata": {},
   "source": [
    "### Running all the tests "
   ]
  },
  {
   "cell_type": "markdown",
   "metadata": {},
   "source": [
    "All tests can be run by the following command. This action can take a while.\n",
    "\n",
    "``` bash\n",
    "    pytest -sv pulp_2_tests/tests/\n",
    "```\n"
   ]
  },
  {
   "cell_type": "markdown",
   "metadata": {},
   "source": [
    "### Installing Pulp-Smash in Development Mode\n",
    "\n",
    "In development mode changes to code are reflected in the working enviroment.\n",
    "\n",
    "\n",
    "``` bash\n",
    "git clone https://github.com/PulpQE/pulp-smash.git\n",
    "cd pulp-smash\n",
    "pip install --editable .[dev]\n",
    "```"
   ]
  },
  {
   "cell_type": "markdown",
   "metadata": {},
   "source": [
    "### Pulp-Fixtures\n",
    "\n",
    "Test environment and repeatability.\n",
    "\n",
    "https://github.com/PulpQE/pulp-fixtures\n"
   ]
  },
  {
   "cell_type": "markdown",
   "metadata": {},
   "source": [
    "### Main Components to be Explained\n",
    "\n",
    "\n",
    "Here are the three most important classes that you will encounter as a test\n",
    "writer:\n",
    "\n",
    "\n",
    "\n",
    "  **pulp_smash.config.PulpSmashConfig**\n",
    "\n",
    " This object stores information about Pulp application and its constituent\n",
    " hosts.\n",
    " A single Pulp application may have its services spread across several hosts. For example, one host might run Qpid, another might run MongoDB, and so on. Here's how to model a multi-host deployment where Apache runs on one host, and the remaining components run on another .\n",
    "\n",
    "  **pulp_smash.cli.Client**\n",
    "\n",
    " This class provides the ability to execute shell commands on either the\n",
    " local host or a remote host. This class provides the ability to execute shell commands on either the local host or a remote host.\n",
    " \n",
    " **pulp_smash.api.Client**\n",
    "\n",
    " A convenience object for working with an API. This class is a wrapper around the `requests.api` module provided by `Requests`.\n"
   ]
  },
  {
   "cell_type": "markdown",
   "metadata": {},
   "source": [
    "### Interact with Pulp using Pulp-Smash\n",
    "\n",
    "Pulp-Smash has 2 main possible ways to interact with Pulp. Using CLI or REST API.\n",
    "\n",
    "There is a client for each of these cases."
   ]
  },
  {
   "cell_type": "markdown",
   "metadata": {},
   "source": [
    "### Good to Know\n",
    "\n",
    "1. Instances of PulpSmashConfig() are structured similarly to the config file that is created using **pulp-smash settings create** .\n",
    "2. pulp_auth and pulp_version correspond to the **pulp** section, and systems corresponds to the **systems** section\n",
    "3. Some of the differences between the JSON file and this class are worth pointing out. For example, the cfg.pulp_version attribute is a **Version** object, *not* a string.\n",
    "4. A useful method **get_systems()** for multi-hosts testing.\n",
    "\n",
    "```python\n",
    "\n",
    "    def get_systems(self, role):\n",
    "        \"\"\"Return a list of hosts fulfilling the given role.\n",
    "        :param role: The role to filter the available hosts, see\n",
    "            `pulp_smash.config.ROLES` for more information.\n",
    "        \"\"\"\n",
    "        if role not in ROLES:\n",
    "            raise ValueError(\n",
    "                'The given role, {}, is not recognized. Valid roles are: {}'\n",
    "                .format(role, ROLES)\n",
    "            )\n",
    "    return [system for system in self.systems if role in system.roles]\n",
    "\n",
    "    \n",
    "```\n",
    "\n",
    "\n",
    "\n"
   ]
  },
  {
   "cell_type": "code",
   "execution_count": 27,
   "metadata": {
    "slideshow": {
     "slide_type": "subslide"
    }
   },
   "outputs": [],
   "source": [
    "from pulp_smash.config import get_config"
   ]
  },
  {
   "cell_type": "markdown",
   "metadata": {},
   "source": [
    "``` python\n",
    "def get_config():\n",
    "    \"\"\"Return a copy of the global ``PulpSmashConfig`` object.\n",
    "    This method makes use of a cache. If the cache is empty, the configuration\n",
    "    file is parsed and the cache is populated. Otherwise, a copy of the cached\n",
    "    configuration object is returned.\n",
    "    :returns: A copy of the global server configuration object.\n",
    "    :rtype: pulp_smash.config.PulpSmashConfig\n",
    "    \"\"\"\n",
    "    global _CONFIG  # pylint:disable=global-statement\n",
    "    if _CONFIG is None:\n",
    "        _CONFIG = PulpSmashConfig().read()\n",
    "return deepcopy(_CONFIG)\n",
    "\n",
    "```"
   ]
  },
  {
   "cell_type": "code",
   "execution_count": 28,
   "metadata": {},
   "outputs": [],
   "source": [
    "cfg = get_config()"
   ]
  },
  {
   "cell_type": "code",
   "execution_count": 29,
   "metadata": {
    "scrolled": true
   },
   "outputs": [
    {
     "data": {
      "text/plain": [
       "PulpSmashConfig(pulp_auth=['admin', 'admin'], pulp_version='2.20', pulp_selinux_enabled=True, timeout=1800, hosts=[PulpHost(hostname='192.168.122.78', roles={'amqp broker': {'service': 'qpidd'}, 'api': {'scheme': 'https', 'service': 'httpd', 'verify': False}, 'mongod': {}, 'pulp celerybeat': {}, 'pulp cli': {}, 'pulp resource manager': {}, 'pulp workers': {}, 'shell': {'transport': 'ssh'}, 'squid': {}})])"
      ]
     },
     "execution_count": 29,
     "metadata": {},
     "output_type": "execute_result"
    }
   ],
   "source": [
    "cfg"
   ]
  },
  {
   "cell_type": "markdown",
   "metadata": {},
   "source": [
    "## Client API\n",
    "\n",
    "Working with an API can require repetitive calls to perform actions like check HTTP status codes.\n",
    "In addition, Pulp's API has specific quirks surrounding its handling of href paths and HTTP 202 status codes. \n",
    "This module provides a customizable client that makes it easier to work with the API in a safe and concise manner.\n",
    "\n",
    "As mentioned before this class is a wrapped around the `requests.api` module provided by `Requests`. Each of the functions from that moudule are exposed as methods here, and each of the arguments accepted by Requests functions are also accepted by these methods. "
   ]
  },
  {
   "cell_type": "code",
   "execution_count": 30,
   "metadata": {},
   "outputs": [],
   "source": [
    "from pulp_smash.api import Client"
   ]
  },
  {
   "cell_type": "code",
   "execution_count": 31,
   "metadata": {},
   "outputs": [
    {
     "data": {
      "text/plain": [
       "'https://192.168.122.78'"
      ]
     },
     "execution_count": 31,
     "metadata": {},
     "output_type": "execute_result"
    }
   ],
   "source": [
    "from pulp_smash import config\n",
    "cfg = config.get_config()\n",
    "cfg.get_base_url()"
   ]
  },
  {
   "cell_type": "markdown",
   "metadata": {},
   "source": [
    "Worth to be mentioned that Client passes certain arguments by default.\n",
    "\n",
    "``` python\n",
    "        \"\"\"Initialize this object with needed instance attributes.\"\"\"\n",
    "        if not pulp_system:\n",
    "            pulp_system = server_config.get_systems('api')[0]\n",
    "        self.pulp_system = pulp_system\n",
    "        self._cfg = server_config\n",
    "        self.request_kwargs = self._cfg.get_requests_kwargs(pulp_system)\n",
    "        self.request_kwargs['url'] = self._cfg.get_base_url(pulp_system)\n",
    "        self.request_kwargs.update(\n",
    "            {} if request_kwargs is None else request_kwargs\n",
    "        )\n",
    "\n",
    "```"
   ]
  },
  {
   "cell_type": "code",
   "execution_count": 32,
   "metadata": {},
   "outputs": [],
   "source": [
    "client = Client(cfg)"
   ]
  },
  {
   "cell_type": "markdown",
   "metadata": {},
   "source": [
    "Anything accepted by the `Requests` functions may be placed in ``request_kwargs`` or passed in to a specific call. Example below."
   ]
  },
  {
   "cell_type": "markdown",
   "metadata": {},
   "source": [
    "``` python\n",
    "client.request_kwargs['url'] == 'https://example.com'\n",
    "client.request_kwargs['verify'] == '~/Documents/my.crt'\n",
    "```"
   ]
  },
  {
   "cell_type": "markdown",
   "metadata": {},
   "source": [
    "This possibility has been explored for Pulp3 tests, for instance.\n",
    "\n",
    "``` python\n",
    "client.request_kwargs['auth'] = get_auth()\n",
    "\n",
    "```\n",
    "\n"
   ]
  },
  {
   "cell_type": "code",
   "execution_count": 33,
   "metadata": {},
   "outputs": [
    {
     "name": "stderr",
     "output_type": "stream",
     "text": [
      "/home/kmo/envs/pe/lib64/python3.7/site-packages/urllib3/connectionpool.py:847: InsecureRequestWarning: Unverified HTTPS request is being made. Adding certificate verification is strongly advised. See: https://urllib3.readthedocs.io/en/latest/advanced-usage.html#ssl-warnings\n",
      "  InsecureRequestWarning)\n"
     ]
    }
   ],
   "source": [
    "response = client.post('/pulp/api/v2/users/', {'login': 'pulp_user4'})\n",
    "# A new user has to be created every time"
   ]
  },
  {
   "cell_type": "code",
   "execution_count": 34,
   "metadata": {},
   "outputs": [
    {
     "data": {
      "text/plain": [
       "{'_id': {'$oid': '5d07d8099dc6d60e7484be17'},\n",
       " 'name': 'pulp_user4',\n",
       " 'roles': [],\n",
       " '_ns': 'users',\n",
       " 'login': 'pulp_user4',\n",
       " 'id': '5d07d8099dc6d60e7484be17',\n",
       " '_href': '/pulp/api/v2/users/pulp_user4/'}"
      ]
     },
     "execution_count": 34,
     "metadata": {},
     "output_type": "execute_result"
    }
   ],
   "source": [
    "response.json()"
   ]
  },
  {
   "cell_type": "markdown",
   "metadata": {},
   "source": [
    "### Reponse Handlers\n",
    "\n",
    "Each **Client** object has a callback function, `response_handler`, that is given a chance to munge each server reponse.\n",
    "\n",
    "Pulp-Smash ships with several response handlers. See:\n",
    "\n",
    "    pulp_smash.api.code_handler\n",
    "    pulp_smash.api.echo_handler\n",
    "    pulp_smash.api.json_handler\n",
    "    pulp_smash.api.safe_handler\n",
    "    \n",
    "There are specific use cases for each of these. All response handlers verify if an exception **HTTPError** was raised, calling `raise_for_status`.\n",
    "\n",
    "Then when creating the client, the `response_handler` can be defined according to the necessity.\n",
    "\n",
    "Default : **safe_handler**\n"
   ]
  },
  {
   "cell_type": "code",
   "execution_count": 35,
   "metadata": {},
   "outputs": [],
   "source": [
    "from pulp_smash import api"
   ]
  },
  {
   "cell_type": "code",
   "execution_count": 36,
   "metadata": {},
   "outputs": [],
   "source": [
    "api_client = Client(cfg, api.json_handler)"
   ]
  },
  {
   "cell_type": "code",
   "execution_count": 43,
   "metadata": {},
   "outputs": [],
   "source": [
    "from pulp_2_tests.tests.rpm.api_v2.utils import gen_repo\n",
    "from pulp_2_tests.constants import RPM_UNSIGNED_FEED_URL\n",
    "from pulp_smash.pulp2.constants import REPOSITORY_PATH"
   ]
  },
  {
   "cell_type": "code",
   "execution_count": 44,
   "metadata": {},
   "outputs": [],
   "source": [
    "body = gen_repo()  \n",
    "body['importer_config']['feed'] = RPM_UNSIGNED_FEED_URL\n",
    "repo = api_client.post(REPOSITORY_PATH, body)"
   ]
  },
  {
   "cell_type": "code",
   "execution_count": 45,
   "metadata": {},
   "outputs": [],
   "source": [
    "repo = api_client.get(repo['_href'], params = {'details':True})"
   ]
  },
  {
   "cell_type": "code",
   "execution_count": 46,
   "metadata": {},
   "outputs": [
    {
     "data": {
      "text/plain": [
       "{'scratchpad': {},\n",
       " 'display_name': '141f8c57-4a6c-4b94-807d-6eab2d534e42',\n",
       " 'description': None,\n",
       " 'distributors': [],\n",
       " 'last_unit_added': None,\n",
       " 'notes': {'_repo-type': 'rpm-repo'},\n",
       " 'last_unit_removed': None,\n",
       " 'content_unit_counts': {},\n",
       " '_ns': 'repos',\n",
       " 'importers': [{'repo_id': '141f8c57-4a6c-4b94-807d-6eab2d534e42',\n",
       "   'last_updated': '2019-06-17T18:18:52Z',\n",
       "   '_href': '/pulp/api/v2/repositories/141f8c57-4a6c-4b94-807d-6eab2d534e42/importers/yum_importer/',\n",
       "   '_ns': 'repo_importers',\n",
       "   'importer_type_id': 'yum_importer',\n",
       "   'last_override_config': {},\n",
       "   'last_sync': None,\n",
       "   'scratchpad': None,\n",
       "   '_id': {'$oid': '5d07d98c9dc6d60e77cf2c05'},\n",
       "   'config': {'feed': 'https://repos.fedorapeople.org/pulp/pulp/fixtures/rpm-unsigned/'},\n",
       "   'id': 'yum_importer'}],\n",
       " 'locally_stored_units': 0,\n",
       " '_id': {'$oid': '5d07d98c9dc6d60e77cf2c04'},\n",
       " 'total_repository_units': 0,\n",
       " 'id': '141f8c57-4a6c-4b94-807d-6eab2d534e42',\n",
       " '_href': '/pulp/api/v2/repositories/141f8c57-4a6c-4b94-807d-6eab2d534e42/'}"
      ]
     },
     "execution_count": 46,
     "metadata": {},
     "output_type": "execute_result"
    }
   ],
   "source": [
    "repo"
   ]
  },
  {
   "cell_type": "markdown",
   "metadata": {},
   "source": [
    "## Client CLI\n",
    "\n",
    "A convenience object for working with a CLI.\n",
    "\n",
    "\n"
   ]
  },
  {
   "cell_type": "code",
   "execution_count": 47,
   "metadata": {},
   "outputs": [],
   "source": [
    "from pulp_smash import config, cli, utils"
   ]
  },
  {
   "cell_type": "code",
   "execution_count": 48,
   "metadata": {},
   "outputs": [],
   "source": [
    "cli_client = cli.Client(config.get_config())"
   ]
  },
  {
   "cell_type": "code",
   "execution_count": 49,
   "metadata": {},
   "outputs": [],
   "source": [
    "repo_id = utils.uuid4()"
   ]
  },
  {
   "cell_type": "raw",
   "metadata": {},
   "source": [
    "repo_id"
   ]
  },
  {
   "cell_type": "code",
   "execution_count": 54,
   "metadata": {},
   "outputs": [
    {
     "data": {
      "text/plain": [
       "CompletedProcess(args=('pulp-admin', 'login', '-u', 'admin', '-p', 'admin'), returncode=0, stdout='\\x1b[0m\\x1b[92mSuccessfully logged in. Session certificate will expire at Jun 24 18:20:52 2019\\nGMT.\\x1b[0m\\n\\n', stderr='')"
      ]
     },
     "execution_count": 54,
     "metadata": {},
     "output_type": "execute_result"
    }
   ],
   "source": [
    "from pulp_smash.pulp2.utils import pulp_admin_login\n",
    "pulp_admin_login(cfg)"
   ]
  },
  {
   "cell_type": "code",
   "execution_count": 55,
   "metadata": {},
   "outputs": [
    {
     "data": {
      "text/plain": [
       "CompletedProcess(args=['pulp-admin', 'rpm', 'repo', 'create', '--repo-id', '6291a39d-ee2a-4588-b82a-d42306ec86d7'], returncode=0, stdout='\\x1b[0m\\x1b[92mSuccessfully created repository [6291a39d-ee2a-4588-b82a-d42306ec86d7]\\x1b[0m\\n\\n', stderr='')"
      ]
     },
     "execution_count": 55,
     "metadata": {},
     "output_type": "execute_result"
    }
   ],
   "source": [
    "cli_client.run('pulp-admin rpm repo create --repo-id {}'.format(repo_id).split())"
   ]
  },
  {
   "cell_type": "markdown",
   "metadata": {},
   "source": [
    "### Response Handlers\n",
    "\n",
    "A callback function. Each time cli_Client executes a command, the result is handed to this callback, and the callback's return value is handed to the user.\n",
    "\n",
    "Pulp-Smash ships with several response handlers. See:\n",
    "\n",
    "    pulp_smash.cli.code_handler\n",
    "    pulp_smash.cli.echo_handler\n",
    "   \n",
    "\n",
    "Default: **code_handler**"
   ]
  },
  {
   "cell_type": "markdown",
   "metadata": {},
   "source": [
    "### Local or SSH\n",
    "\n",
    "Pulp Smash compares the host name in its configuration file to the host name of the current system, and *that* is what tells it how to run commands.\n"
   ]
  },
  {
   "cell_type": "code",
   "execution_count": 56,
   "metadata": {},
   "outputs": [],
   "source": [
    "cli_client = cli.Client(config.get_config(), cli.echo_handler)"
   ]
  },
  {
   "cell_type": "code",
   "execution_count": 57,
   "metadata": {},
   "outputs": [],
   "source": [
    "repo_id = utils.uuid4()"
   ]
  },
  {
   "cell_type": "code",
   "execution_count": 58,
   "metadata": {},
   "outputs": [
    {
     "data": {
      "text/plain": [
       "CompletedProcess(args=['pulp-admin', 'rpm', 'repo', 'create', '--repo-id', '366491ef-6873-4420-a7fd-3dffe637e97e'], returncode=0, stdout='\\x1b[0m\\x1b[92mSuccessfully created repository [366491ef-6873-4420-a7fd-3dffe637e97e]\\x1b[0m\\n\\n', stderr='')"
      ]
     },
     "execution_count": 58,
     "metadata": {},
     "output_type": "execute_result"
    }
   ],
   "source": [
    "cli_client.run('pulp-admin rpm repo create --repo-id {}'.format(repo_id).split())"
   ]
  },
  {
   "cell_type": "markdown",
   "metadata": {},
   "source": [
    "### Extra documentation\n",
    "\n",
    "https://pulp-smash.readthedocs.io/en/latest/\n",
    "    \n",
    "    "
   ]
  },
  {
   "cell_type": "markdown",
   "metadata": {},
   "source": [
    "### How to contribute to Pulp-Smash?\n",
    "\n",
    "https://pulp-smash.readthedocs.io/en/latest/about.html#contributing\n"
   ]
  },
  {
   "cell_type": "markdown",
   "metadata": {},
   "source": [
    "### File an issue against pulp-smash\n",
    "\n",
    "https://github.com/PulpQE/pulp-smash/issues/new"
   ]
  },
  {
   "cell_type": "markdown",
   "metadata": {},
   "source": [
    "### Thank you."
   ]
  }
 ],
 "metadata": {
  "kernelspec": {
   "display_name": "Python 3",
   "language": "python",
   "name": "python3"
  },
  "language_info": {
   "codemirror_mode": {
    "name": "ipython",
    "version": 3
   },
   "file_extension": ".py",
   "mimetype": "text/x-python",
   "name": "python",
   "nbconvert_exporter": "python",
   "pygments_lexer": "ipython3",
   "version": "3.7.3"
  }
 },
 "nbformat": 4,
 "nbformat_minor": 2
}
